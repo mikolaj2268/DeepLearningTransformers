{
 "cells": [
  {
   "cell_type": "code",
   "id": "initial_id",
   "metadata": {
    "collapsed": true,
    "ExecuteTime": {
     "end_time": "2025-04-24T19:03:04.587777Z",
     "start_time": "2025-04-24T19:02:53.456538Z"
    }
   },
   "source": [
    "from AudioDataset import AudioDataset\n",
    "from torch.utils.data import DataLoader\n",
    "from model_helper import *"
   ],
   "outputs": [],
   "execution_count": 1
  },
  {
   "metadata": {
    "ExecuteTime": {
     "end_time": "2025-04-24T19:03:07.748327Z",
     "start_time": "2025-04-24T19:03:07.701478Z"
    }
   },
   "cell_type": "code",
   "source": [
    "if torch.cuda.is_available():\n",
    "    device = torch.device(\"cuda\")\n",
    "    print(\"Using CUDA device for GPU acceleration.\")\n",
    "elif torch.backends.mps.is_available():\n",
    "    device = torch.device(\"mps\")\n",
    "    print(\"Using MPS device for GPU acceleration.\")\n",
    "else:\n",
    "    device = torch.device(\"cpu\")\n",
    "    print(\"No GPU device found. Using CPU.\")"
   ],
   "id": "192cae28c0907f81",
   "outputs": [
    {
     "name": "stdout",
     "output_type": "stream",
     "text": [
      "Using CUDA device for GPU acceleration.\n"
     ]
    }
   ],
   "execution_count": 2
  },
  {
   "metadata": {
    "ExecuteTime": {
     "end_time": "2025-04-24T19:03:12.084761Z",
     "start_time": "2025-04-24T19:03:12.026889Z"
    }
   },
   "cell_type": "code",
   "source": [
    "import random\n",
    "\n",
    "random.seed(42)\n",
    "torch.manual_seed(42)\n",
    "\n",
    "if torch.cuda.is_available():\n",
    "    torch.cuda.manual_seed(42)\n",
    "    \n",
    "classes = [\"yes\", \"no\", \"up\", \"down\", \"left\", \"right\", \"on\", \"off\", \"stop\", \"go\", \"silence\", \"unknown\"]"
   ],
   "id": "8ad6ea2182ea1288",
   "outputs": [],
   "execution_count": 3
  },
  {
   "metadata": {
    "ExecuteTime": {
     "end_time": "2025-04-24T19:03:15.261242Z",
     "start_time": "2025-04-24T19:03:15.252266Z"
    }
   },
   "cell_type": "code",
   "source": [
    "class AudioTransformer(nn.Module):\n",
    "    def __init__(self, n_mels=80, n_classes=12, d_model=128, nhead=4, num_layers=2, dim_feedforward=256):\n",
    "        super(AudioTransformer, self).__init__()\n",
    "        self.input_proj = nn.Linear(n_mels, d_model)\n",
    "        encoder_layer = nn.TransformerEncoderLayer(d_model=d_model, nhead=nhead, dim_feedforward=dim_feedforward, batch_first=True)\n",
    "        self.transformer_encoder = nn.TransformerEncoder(encoder_layer, num_layers=num_layers)\n",
    "        self.classifier = nn.Linear(d_model, n_classes)\n",
    "\n",
    "    def forward(self, x):\n",
    "        x = self.input_proj(x)\n",
    "        transformer_out = self.transformer_encoder(x)\n",
    "        x = transformer_out.mean(dim=1)\n",
    "        out = self.classifier(x)\n",
    "        return out"
   ],
   "id": "9c7352dc110914a0",
   "outputs": [],
   "execution_count": 4
  },
  {
   "metadata": {
    "ExecuteTime": {
     "end_time": "2025-04-24T19:03:17.542142Z",
     "start_time": "2025-04-24T19:03:17.466346Z"
    }
   },
   "cell_type": "code",
   "source": [
    "train_dataset = AudioDataset(\n",
    "    csv_path=\"./data/train_balanced.csv\",\n",
    "    audio_dir=\"./data_raw/train/audio\"\n",
    ")\n",
    "train_dataloader = DataLoader(train_dataset, batch_size=128, shuffle=True, drop_last=True)"
   ],
   "id": "1bbda52d48502ebb",
   "outputs": [],
   "execution_count": 5
  },
  {
   "metadata": {
    "ExecuteTime": {
     "end_time": "2025-04-24T19:03:18.925446Z",
     "start_time": "2025-04-24T19:03:18.866602Z"
    }
   },
   "cell_type": "code",
   "source": [
    "test_dataset = AudioDataset(\n",
    "    csv_path=\"./data/test.csv\",\n",
    "    audio_dir=\"./data_raw/train/audio\"\n",
    ")\n",
    "test_loader = DataLoader(test_dataset, batch_size=1, shuffle=True, drop_last=True)"
   ],
   "id": "7912a1e6827b3688",
   "outputs": [],
   "execution_count": 6
  },
  {
   "metadata": {
    "jupyter": {
     "is_executing": true
    },
    "ExecuteTime": {
     "start_time": "2025-04-24T19:03:59.477029Z"
    }
   },
   "cell_type": "code",
   "source": [
    "learning_rate_values = [0.0005, 0.001, 0.005, 0.01]\n",
    "weight_decay = 0\n",
    "model_name = 'transformer'\n",
    "tested_parameter = 'lr'\n",
    "epoch_number = 20\n",
    "\n",
    "for lr in learning_rate_values:\n",
    "    model = AudioTransformer().to(device)\n",
    "    model = train_model(model, device, train_dataloader, lr=lr, weight_decay=weight_decay, model_name=model_name, epoch_number=epoch_number, save_flg = True)\n",
    "    predict_model(model, device, classes, test_loader, lr=lr, weight_decay=weight_decay, model_name=model_name, tested_parameter=tested_parameter, save_flg = True)"
   ],
   "id": "632138167bb348b4",
   "outputs": [],
   "execution_count": null
  },
  {
   "metadata": {},
   "cell_type": "code",
   "outputs": [],
   "execution_count": null,
   "source": [
    "weight_decay_values = [0.0005,0.001,0.005,0.01]\n",
    "lr = #tu dac najlepszy lr z poprzedniego eksperymentu\n",
    "model_name = 'transformer'\n",
    "tested_parameter = 'weight_decay'\n",
    "epoch_number = 20\n",
    "\n",
    "for weight_decay in weight_decay_values:\n",
    "    model = AudioTransformer().to(device)\n",
    "    model = train_model(model, device, train_dataloader, lr=lr, weight_decay=weight_decay, model_name=model_name, epoch_number=epoch_number, save_flg = True)\n",
    "    predict_model(model, device, classes, test_loader, lr=lr, weight_decay=weight_decay, model_name=model_name, tested_parameter=tested_parameter, save_flg = True)"
   ],
   "id": "20123b9924b8be70"
  }
 ],
 "metadata": {
  "kernelspec": {
   "display_name": "Python 3",
   "language": "python",
   "name": "python3"
  },
  "language_info": {
   "codemirror_mode": {
    "name": "ipython",
    "version": 2
   },
   "file_extension": ".py",
   "mimetype": "text/x-python",
   "name": "python",
   "nbconvert_exporter": "python",
   "pygments_lexer": "ipython2",
   "version": "2.7.6"
  }
 },
 "nbformat": 4,
 "nbformat_minor": 5
}
