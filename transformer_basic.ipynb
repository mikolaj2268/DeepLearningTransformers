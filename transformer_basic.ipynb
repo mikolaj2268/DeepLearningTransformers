{
 "cells": [
  {
   "cell_type": "code",
   "id": "initial_id",
   "metadata": {
    "collapsed": true,
    "ExecuteTime": {
     "end_time": "2025-04-24T19:07:42.763686Z",
     "start_time": "2025-04-24T19:07:39.167302Z"
    }
   },
   "source": [
    "from AudioDataset import AudioDataset\n",
    "from torch.utils.data import DataLoader\n",
    "from model_helper import *"
   ],
   "outputs": [],
   "execution_count": 1
  },
  {
   "metadata": {
    "ExecuteTime": {
     "end_time": "2025-04-24T19:07:42.795601Z",
     "start_time": "2025-04-24T19:07:42.765681Z"
    }
   },
   "cell_type": "code",
   "source": [
    "if torch.cuda.is_available():\n",
    "    device = torch.device(\"cuda\")\n",
    "    print(\"Using CUDA device for GPU acceleration.\")\n",
    "elif torch.backends.mps.is_available():\n",
    "    device = torch.device(\"mps\")\n",
    "    print(\"Using MPS device for GPU acceleration.\")\n",
    "else:\n",
    "    device = torch.device(\"cpu\")\n",
    "    print(\"No GPU device found. Using CPU.\")"
   ],
   "id": "192cae28c0907f81",
   "outputs": [
    {
     "name": "stdout",
     "output_type": "stream",
     "text": [
      "Using CUDA device for GPU acceleration.\n"
     ]
    }
   ],
   "execution_count": 2
  },
  {
   "metadata": {
    "ExecuteTime": {
     "end_time": "2025-04-24T19:07:42.826519Z",
     "start_time": "2025-04-24T19:07:42.797597Z"
    }
   },
   "cell_type": "code",
   "source": [
    "import random\n",
    "\n",
    "random.seed(42)\n",
    "torch.manual_seed(42)\n",
    "\n",
    "if torch.cuda.is_available():\n",
    "    torch.cuda.manual_seed(42)\n",
    "    \n",
    "classes = [\"yes\", \"no\", \"up\", \"down\", \"left\", \"right\", \"on\", \"off\", \"stop\", \"go\", \"silence\", \"unknown\"]"
   ],
   "id": "8ad6ea2182ea1288",
   "outputs": [],
   "execution_count": 3
  },
  {
   "metadata": {
    "ExecuteTime": {
     "end_time": "2025-04-24T19:07:42.841479Z",
     "start_time": "2025-04-24T19:07:42.828514Z"
    }
   },
   "cell_type": "code",
   "source": [
    "class AudioTransformer(nn.Module):\n",
    "    def __init__(self, n_mels=80, n_classes=12, d_model=128, nhead=4, num_layers=2, dim_feedforward=256):\n",
    "        super(AudioTransformer, self).__init__()\n",
    "        self.input_proj = nn.Linear(n_mels, d_model)\n",
    "        encoder_layer = nn.TransformerEncoderLayer(d_model=d_model, nhead=nhead, dim_feedforward=dim_feedforward, batch_first=True)\n",
    "        self.transformer_encoder = nn.TransformerEncoder(encoder_layer, num_layers=num_layers)\n",
    "        self.classifier = nn.Linear(d_model, n_classes)\n",
    "\n",
    "    def forward(self, x):\n",
    "        x = self.input_proj(x)\n",
    "        transformer_out = self.transformer_encoder(x)\n",
    "        x = transformer_out.mean(dim=1)\n",
    "        out = self.classifier(x)\n",
    "        return out"
   ],
   "id": "9c7352dc110914a0",
   "outputs": [],
   "execution_count": 4
  },
  {
   "metadata": {
    "ExecuteTime": {
     "end_time": "2025-04-24T19:07:46.028956Z",
     "start_time": "2025-04-24T19:07:46.000034Z"
    }
   },
   "cell_type": "code",
   "source": [
    "train_dataset = AudioDataset(\n",
    "    csv_path=\"./data/train_balanced.csv\",\n",
    "    audio_dir=\"./data_raw/train/audio\"\n",
    ")\n",
    "train_dataloader = DataLoader(train_dataset, batch_size=128, shuffle=True, drop_last=True)"
   ],
   "id": "1bbda52d48502ebb",
   "outputs": [],
   "execution_count": 5
  },
  {
   "metadata": {
    "ExecuteTime": {
     "end_time": "2025-04-24T19:07:46.889656Z",
     "start_time": "2025-04-24T19:07:46.871704Z"
    }
   },
   "cell_type": "code",
   "source": [
    "test_dataset = AudioDataset(\n",
    "    csv_path=\"./data/test.csv\",\n",
    "    audio_dir=\"./data_raw/train/audio\"\n",
    ")\n",
    "test_loader = DataLoader(test_dataset, batch_size=1, shuffle=True, drop_last=True)"
   ],
   "id": "7912a1e6827b3688",
   "outputs": [],
   "execution_count": 6
  },
  {
   "metadata": {
    "ExecuteTime": {
     "end_time": "2025-04-24T19:10:54.617002Z",
     "start_time": "2025-04-24T19:07:49.088776Z"
    }
   },
   "cell_type": "code",
   "source": [
    "learning_rate_values = [0.0005, 0.001, 0.005, 0.01]\n",
    "weight_decay = 0 #default value\n",
    "model_name = 'transformer'\n",
    "tested_parameter = 'lr'\n",
    "epoch_number = 20\n",
    "\n",
    "for lr in learning_rate_values:\n",
    "    model = AudioTransformer().to(device)\n",
    "    model = train_model(model, device, train_dataloader, lr=lr, weight_decay=weight_decay, model_name=model_name, epoch_number=epoch_number, save_flg = True)\n",
    "    predict_model(model, device, classes, test_loader, lr=lr, weight_decay=weight_decay, model_name=model_name, tested_parameter=tested_parameter, save_flg = True)"
   ],
   "id": "632138167bb348b4",
   "outputs": [
    {
     "name": "stdout",
     "output_type": "stream",
     "text": [
      "Epoch 1, Loss: 1.4587\n",
      "Epoch 2, Loss: 0.7269\n"
     ]
    },
    {
     "ename": "KeyboardInterrupt",
     "evalue": "",
     "output_type": "error",
     "traceback": [
      "\u001B[1;31m---------------------------------------------------------------------------\u001B[0m",
      "\u001B[1;31mKeyboardInterrupt\u001B[0m                         Traceback (most recent call last)",
      "Cell \u001B[1;32mIn[7], line 9\u001B[0m\n\u001B[0;32m      7\u001B[0m \u001B[38;5;28;01mfor\u001B[39;00m lr \u001B[38;5;129;01min\u001B[39;00m learning_rate_values:\n\u001B[0;32m      8\u001B[0m     model \u001B[38;5;241m=\u001B[39m AudioTransformer()\u001B[38;5;241m.\u001B[39mto(device)\n\u001B[1;32m----> 9\u001B[0m     model \u001B[38;5;241m=\u001B[39m \u001B[43mtrain_model\u001B[49m\u001B[43m(\u001B[49m\u001B[43mmodel\u001B[49m\u001B[43m,\u001B[49m\u001B[43m \u001B[49m\u001B[43mdevice\u001B[49m\u001B[43m,\u001B[49m\u001B[43m \u001B[49m\u001B[43mtrain_dataloader\u001B[49m\u001B[43m,\u001B[49m\u001B[43m \u001B[49m\u001B[43mlr\u001B[49m\u001B[38;5;241;43m=\u001B[39;49m\u001B[43mlr\u001B[49m\u001B[43m,\u001B[49m\u001B[43m \u001B[49m\u001B[43mweight_decay\u001B[49m\u001B[38;5;241;43m=\u001B[39;49m\u001B[43mweight_decay\u001B[49m\u001B[43m,\u001B[49m\u001B[43m \u001B[49m\u001B[43mmodel_name\u001B[49m\u001B[38;5;241;43m=\u001B[39;49m\u001B[43mmodel_name\u001B[49m\u001B[43m,\u001B[49m\u001B[43m \u001B[49m\u001B[43mepoch_number\u001B[49m\u001B[38;5;241;43m=\u001B[39;49m\u001B[43mepoch_number\u001B[49m\u001B[43m,\u001B[49m\u001B[43m \u001B[49m\u001B[43msave_flg\u001B[49m\u001B[43m \u001B[49m\u001B[38;5;241;43m=\u001B[39;49m\u001B[43m \u001B[49m\u001B[38;5;28;43;01mTrue\u001B[39;49;00m\u001B[43m)\u001B[49m\n\u001B[0;32m     10\u001B[0m     predict_model(model, device, classes, test_loader, lr\u001B[38;5;241m=\u001B[39mlr, weight_decay\u001B[38;5;241m=\u001B[39mweight_decay, model_name\u001B[38;5;241m=\u001B[39mmodel_name, tested_parameter\u001B[38;5;241m=\u001B[39mtested_parameter, save_flg \u001B[38;5;241m=\u001B[39m \u001B[38;5;28;01mTrue\u001B[39;00m)\n",
      "File \u001B[1;32mD:\\git-repo\\DeepLearningTransformers\\model_helper.py:19\u001B[0m, in \u001B[0;36mtrain_model\u001B[1;34m(model, device, dataloader, lr, weight_decay, model_name, epoch_number, save_flg)\u001B[0m\n\u001B[0;32m     16\u001B[0m model\u001B[38;5;241m.\u001B[39mtrain()\n\u001B[0;32m     17\u001B[0m running_loss \u001B[38;5;241m=\u001B[39m \u001B[38;5;241m0.0\u001B[39m\n\u001B[1;32m---> 19\u001B[0m \u001B[38;5;28;01mfor\u001B[39;00m i, (images, labels) \u001B[38;5;129;01min\u001B[39;00m \u001B[38;5;28menumerate\u001B[39m(dataloader):\n\u001B[0;32m     20\u001B[0m     inputs, labels \u001B[38;5;241m=\u001B[39m images\u001B[38;5;241m.\u001B[39mto(device), labels\u001B[38;5;241m.\u001B[39mto(device)\n\u001B[0;32m     22\u001B[0m     optimizer\u001B[38;5;241m.\u001B[39mzero_grad()\n",
      "File \u001B[1;32mD:\\git-repo\\DeepLearningCNN\\.venv\\lib\\site-packages\\torch\\utils\\data\\dataloader.py:708\u001B[0m, in \u001B[0;36m_BaseDataLoaderIter.__next__\u001B[1;34m(self)\u001B[0m\n\u001B[0;32m    705\u001B[0m \u001B[38;5;28;01mif\u001B[39;00m \u001B[38;5;28mself\u001B[39m\u001B[38;5;241m.\u001B[39m_sampler_iter \u001B[38;5;129;01mis\u001B[39;00m \u001B[38;5;28;01mNone\u001B[39;00m:\n\u001B[0;32m    706\u001B[0m     \u001B[38;5;66;03m# TODO(https://github.com/pytorch/pytorch/issues/76750)\u001B[39;00m\n\u001B[0;32m    707\u001B[0m     \u001B[38;5;28mself\u001B[39m\u001B[38;5;241m.\u001B[39m_reset()  \u001B[38;5;66;03m# type: ignore[call-arg]\u001B[39;00m\n\u001B[1;32m--> 708\u001B[0m data \u001B[38;5;241m=\u001B[39m \u001B[38;5;28;43mself\u001B[39;49m\u001B[38;5;241;43m.\u001B[39;49m\u001B[43m_next_data\u001B[49m\u001B[43m(\u001B[49m\u001B[43m)\u001B[49m\n\u001B[0;32m    709\u001B[0m \u001B[38;5;28mself\u001B[39m\u001B[38;5;241m.\u001B[39m_num_yielded \u001B[38;5;241m+\u001B[39m\u001B[38;5;241m=\u001B[39m \u001B[38;5;241m1\u001B[39m\n\u001B[0;32m    710\u001B[0m \u001B[38;5;28;01mif\u001B[39;00m (\n\u001B[0;32m    711\u001B[0m     \u001B[38;5;28mself\u001B[39m\u001B[38;5;241m.\u001B[39m_dataset_kind \u001B[38;5;241m==\u001B[39m _DatasetKind\u001B[38;5;241m.\u001B[39mIterable\n\u001B[0;32m    712\u001B[0m     \u001B[38;5;129;01mand\u001B[39;00m \u001B[38;5;28mself\u001B[39m\u001B[38;5;241m.\u001B[39m_IterableDataset_len_called \u001B[38;5;129;01mis\u001B[39;00m \u001B[38;5;129;01mnot\u001B[39;00m \u001B[38;5;28;01mNone\u001B[39;00m\n\u001B[0;32m    713\u001B[0m     \u001B[38;5;129;01mand\u001B[39;00m \u001B[38;5;28mself\u001B[39m\u001B[38;5;241m.\u001B[39m_num_yielded \u001B[38;5;241m>\u001B[39m \u001B[38;5;28mself\u001B[39m\u001B[38;5;241m.\u001B[39m_IterableDataset_len_called\n\u001B[0;32m    714\u001B[0m ):\n",
      "File \u001B[1;32mD:\\git-repo\\DeepLearningCNN\\.venv\\lib\\site-packages\\torch\\utils\\data\\dataloader.py:764\u001B[0m, in \u001B[0;36m_SingleProcessDataLoaderIter._next_data\u001B[1;34m(self)\u001B[0m\n\u001B[0;32m    762\u001B[0m \u001B[38;5;28;01mdef\u001B[39;00m\u001B[38;5;250m \u001B[39m\u001B[38;5;21m_next_data\u001B[39m(\u001B[38;5;28mself\u001B[39m):\n\u001B[0;32m    763\u001B[0m     index \u001B[38;5;241m=\u001B[39m \u001B[38;5;28mself\u001B[39m\u001B[38;5;241m.\u001B[39m_next_index()  \u001B[38;5;66;03m# may raise StopIteration\u001B[39;00m\n\u001B[1;32m--> 764\u001B[0m     data \u001B[38;5;241m=\u001B[39m \u001B[38;5;28;43mself\u001B[39;49m\u001B[38;5;241;43m.\u001B[39;49m\u001B[43m_dataset_fetcher\u001B[49m\u001B[38;5;241;43m.\u001B[39;49m\u001B[43mfetch\u001B[49m\u001B[43m(\u001B[49m\u001B[43mindex\u001B[49m\u001B[43m)\u001B[49m  \u001B[38;5;66;03m# may raise StopIteration\u001B[39;00m\n\u001B[0;32m    765\u001B[0m     \u001B[38;5;28;01mif\u001B[39;00m \u001B[38;5;28mself\u001B[39m\u001B[38;5;241m.\u001B[39m_pin_memory:\n\u001B[0;32m    766\u001B[0m         data \u001B[38;5;241m=\u001B[39m _utils\u001B[38;5;241m.\u001B[39mpin_memory\u001B[38;5;241m.\u001B[39mpin_memory(data, \u001B[38;5;28mself\u001B[39m\u001B[38;5;241m.\u001B[39m_pin_memory_device)\n",
      "File \u001B[1;32mD:\\git-repo\\DeepLearningCNN\\.venv\\lib\\site-packages\\torch\\utils\\data\\_utils\\fetch.py:52\u001B[0m, in \u001B[0;36m_MapDatasetFetcher.fetch\u001B[1;34m(self, possibly_batched_index)\u001B[0m\n\u001B[0;32m     50\u001B[0m         data \u001B[38;5;241m=\u001B[39m \u001B[38;5;28mself\u001B[39m\u001B[38;5;241m.\u001B[39mdataset\u001B[38;5;241m.\u001B[39m__getitems__(possibly_batched_index)\n\u001B[0;32m     51\u001B[0m     \u001B[38;5;28;01melse\u001B[39;00m:\n\u001B[1;32m---> 52\u001B[0m         data \u001B[38;5;241m=\u001B[39m [\u001B[38;5;28mself\u001B[39m\u001B[38;5;241m.\u001B[39mdataset[idx] \u001B[38;5;28;01mfor\u001B[39;00m idx \u001B[38;5;129;01min\u001B[39;00m possibly_batched_index]\n\u001B[0;32m     53\u001B[0m \u001B[38;5;28;01melse\u001B[39;00m:\n\u001B[0;32m     54\u001B[0m     data \u001B[38;5;241m=\u001B[39m \u001B[38;5;28mself\u001B[39m\u001B[38;5;241m.\u001B[39mdataset[possibly_batched_index]\n",
      "File \u001B[1;32mD:\\git-repo\\DeepLearningCNN\\.venv\\lib\\site-packages\\torch\\utils\\data\\_utils\\fetch.py:52\u001B[0m, in \u001B[0;36m<listcomp>\u001B[1;34m(.0)\u001B[0m\n\u001B[0;32m     50\u001B[0m         data \u001B[38;5;241m=\u001B[39m \u001B[38;5;28mself\u001B[39m\u001B[38;5;241m.\u001B[39mdataset\u001B[38;5;241m.\u001B[39m__getitems__(possibly_batched_index)\n\u001B[0;32m     51\u001B[0m     \u001B[38;5;28;01melse\u001B[39;00m:\n\u001B[1;32m---> 52\u001B[0m         data \u001B[38;5;241m=\u001B[39m [\u001B[38;5;28;43mself\u001B[39;49m\u001B[38;5;241;43m.\u001B[39;49m\u001B[43mdataset\u001B[49m\u001B[43m[\u001B[49m\u001B[43midx\u001B[49m\u001B[43m]\u001B[49m \u001B[38;5;28;01mfor\u001B[39;00m idx \u001B[38;5;129;01min\u001B[39;00m possibly_batched_index]\n\u001B[0;32m     53\u001B[0m \u001B[38;5;28;01melse\u001B[39;00m:\n\u001B[0;32m     54\u001B[0m     data \u001B[38;5;241m=\u001B[39m \u001B[38;5;28mself\u001B[39m\u001B[38;5;241m.\u001B[39mdataset[possibly_batched_index]\n",
      "File \u001B[1;32mD:\\git-repo\\DeepLearningTransformers\\AudioDataset.py:30\u001B[0m, in \u001B[0;36mAudioDataset.__getitem__\u001B[1;34m(self, idx)\u001B[0m\n\u001B[0;32m     27\u001B[0m \u001B[38;5;28;01melse\u001B[39;00m:\n\u001B[0;32m     28\u001B[0m     signal \u001B[38;5;241m=\u001B[39m signal[:\u001B[38;5;28mself\u001B[39m\u001B[38;5;241m.\u001B[39mmax_length]\n\u001B[1;32m---> 30\u001B[0m mel_spec \u001B[38;5;241m=\u001B[39m \u001B[43mlibrosa\u001B[49m\u001B[38;5;241;43m.\u001B[39;49m\u001B[43mfeature\u001B[49m\u001B[38;5;241;43m.\u001B[39;49m\u001B[43mmelspectrogram\u001B[49m\u001B[43m(\u001B[49m\u001B[43my\u001B[49m\u001B[38;5;241;43m=\u001B[39;49m\u001B[43msignal\u001B[49m\u001B[43m,\u001B[49m\u001B[43m \u001B[49m\u001B[43msr\u001B[49m\u001B[38;5;241;43m=\u001B[39;49m\u001B[43msr\u001B[49m\u001B[43m,\u001B[49m\u001B[43m \u001B[49m\u001B[43mn_mels\u001B[49m\u001B[38;5;241;43m=\u001B[39;49m\u001B[38;5;28;43mself\u001B[39;49m\u001B[38;5;241;43m.\u001B[39;49m\u001B[43mn_mels\u001B[49m\u001B[43m)\u001B[49m\n\u001B[0;32m     31\u001B[0m log_mel_spec \u001B[38;5;241m=\u001B[39m librosa\u001B[38;5;241m.\u001B[39mpower_to_db(mel_spec, ref\u001B[38;5;241m=\u001B[39mnp\u001B[38;5;241m.\u001B[39mmax)\n\u001B[0;32m     33\u001B[0m log_mel_spec \u001B[38;5;241m=\u001B[39m (log_mel_spec \u001B[38;5;241m-\u001B[39m log_mel_spec\u001B[38;5;241m.\u001B[39mmean()) \u001B[38;5;241m/\u001B[39m (log_mel_spec\u001B[38;5;241m.\u001B[39mstd() \u001B[38;5;241m+\u001B[39m \u001B[38;5;241m1e-6\u001B[39m)\n",
      "File \u001B[1;32mD:\\git-repo\\DeepLearningCNN\\.venv\\lib\\site-packages\\librosa\\feature\\spectral.py:2148\u001B[0m, in \u001B[0;36mmelspectrogram\u001B[1;34m(y, sr, S, n_fft, hop_length, win_length, window, center, pad_mode, power, **kwargs)\u001B[0m\n\u001B[0;32m   2135\u001B[0m S, n_fft \u001B[38;5;241m=\u001B[39m _spectrogram(\n\u001B[0;32m   2136\u001B[0m     y\u001B[38;5;241m=\u001B[39my,\n\u001B[0;32m   2137\u001B[0m     S\u001B[38;5;241m=\u001B[39mS,\n\u001B[1;32m   (...)\u001B[0m\n\u001B[0;32m   2144\u001B[0m     pad_mode\u001B[38;5;241m=\u001B[39mpad_mode,\n\u001B[0;32m   2145\u001B[0m )\n\u001B[0;32m   2147\u001B[0m \u001B[38;5;66;03m# Build a Mel filter\u001B[39;00m\n\u001B[1;32m-> 2148\u001B[0m mel_basis \u001B[38;5;241m=\u001B[39m filters\u001B[38;5;241m.\u001B[39mmel(sr\u001B[38;5;241m=\u001B[39msr, n_fft\u001B[38;5;241m=\u001B[39mn_fft, \u001B[38;5;241m*\u001B[39m\u001B[38;5;241m*\u001B[39mkwargs)\n\u001B[0;32m   2150\u001B[0m melspec: np\u001B[38;5;241m.\u001B[39mndarray \u001B[38;5;241m=\u001B[39m np\u001B[38;5;241m.\u001B[39meinsum(\u001B[38;5;124m\"\u001B[39m\u001B[38;5;124m...ft,mf->...mt\u001B[39m\u001B[38;5;124m\"\u001B[39m, S, mel_basis, optimize\u001B[38;5;241m=\u001B[39m\u001B[38;5;28;01mTrue\u001B[39;00m)\n\u001B[0;32m   2151\u001B[0m \u001B[38;5;28;01mreturn\u001B[39;00m melspec\n",
      "File \u001B[1;32mD:\\git-repo\\DeepLearningCNN\\.venv\\lib\\site-packages\\librosa\\filters.py:239\u001B[0m, in \u001B[0;36mmel\u001B[1;34m(sr, n_fft, n_mels, fmin, fmax, htk, norm, dtype)\u001B[0m\n\u001B[0;32m    236\u001B[0m     upper \u001B[38;5;241m=\u001B[39m ramps[i \u001B[38;5;241m+\u001B[39m \u001B[38;5;241m2\u001B[39m] \u001B[38;5;241m/\u001B[39m fdiff[i \u001B[38;5;241m+\u001B[39m \u001B[38;5;241m1\u001B[39m]\n\u001B[0;32m    238\u001B[0m     \u001B[38;5;66;03m# .. then intersect them with each other and zero\u001B[39;00m\n\u001B[1;32m--> 239\u001B[0m     weights[i] \u001B[38;5;241m=\u001B[39m np\u001B[38;5;241m.\u001B[39mmaximum(\u001B[38;5;241m0\u001B[39m, \u001B[43mnp\u001B[49m\u001B[38;5;241;43m.\u001B[39;49m\u001B[43mminimum\u001B[49m\u001B[43m(\u001B[49m\u001B[43mlower\u001B[49m\u001B[43m,\u001B[49m\u001B[43m \u001B[49m\u001B[43mupper\u001B[49m\u001B[43m)\u001B[49m)\n\u001B[0;32m    241\u001B[0m \u001B[38;5;28;01mif\u001B[39;00m \u001B[38;5;28misinstance\u001B[39m(norm, \u001B[38;5;28mstr\u001B[39m):\n\u001B[0;32m    242\u001B[0m     \u001B[38;5;28;01mif\u001B[39;00m norm \u001B[38;5;241m==\u001B[39m \u001B[38;5;124m\"\u001B[39m\u001B[38;5;124mslaney\u001B[39m\u001B[38;5;124m\"\u001B[39m:\n\u001B[0;32m    243\u001B[0m         \u001B[38;5;66;03m# Slaney-style mel is scaled to be approx constant energy per channel\u001B[39;00m\n",
      "\u001B[1;31mKeyboardInterrupt\u001B[0m: "
     ]
    }
   ],
   "execution_count": 7
  },
  {
   "metadata": {},
   "cell_type": "code",
   "outputs": [],
   "execution_count": null,
   "source": [
    "weight_decay_values = [0.0005,0.001,0.005,0.01]\n",
    "lr = #tu dac najlepszy lr z poprzedniego eksperymentu\n",
    "model_name = 'transformer'\n",
    "tested_parameter = 'weight_decay'\n",
    "epoch_number = 20\n",
    "\n",
    "for weight_decay in weight_decay_values:\n",
    "    model = AudioTransformer().to(device)\n",
    "    model = train_model(model, device, train_dataloader, lr=lr, weight_decay=weight_decay, model_name=model_name, epoch_number=epoch_number, save_flg = True)\n",
    "    predict_model(model, device, classes, test_loader, lr=lr, weight_decay=weight_decay, model_name=model_name, tested_parameter=tested_parameter, save_flg = True)"
   ],
   "id": "20123b9924b8be70"
  }
 ],
 "metadata": {
  "kernelspec": {
   "display_name": "Python 3",
   "language": "python",
   "name": "python3"
  },
  "language_info": {
   "codemirror_mode": {
    "name": "ipython",
    "version": 2
   },
   "file_extension": ".py",
   "mimetype": "text/x-python",
   "name": "python",
   "nbconvert_exporter": "python",
   "pygments_lexer": "ipython2",
   "version": "2.7.6"
  }
 },
 "nbformat": 4,
 "nbformat_minor": 5
}
