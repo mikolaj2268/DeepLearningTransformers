{
 "cells": [
  {
   "cell_type": "code",
   "id": "initial_id",
   "metadata": {
    "collapsed": true,
    "ExecuteTime": {
     "end_time": "2025-04-24T16:12:33.213548Z",
     "start_time": "2025-04-24T16:12:33.196593Z"
    }
   },
   "source": [
    "import torch\n",
    "import pandas as pd"
   ],
   "outputs": [],
   "execution_count": 41
  },
  {
   "metadata": {
    "ExecuteTime": {
     "end_time": "2025-04-24T16:12:34.068285Z",
     "start_time": "2025-04-24T16:12:34.048546Z"
    }
   },
   "cell_type": "code",
   "source": [
    "if torch.cuda.is_available():\n",
    "    device = torch.device(\"cuda\")\n",
    "    print(\"Using CUDA device for GPU acceleration.\")\n",
    "elif torch.backends.mps.is_available():\n",
    "    device = torch.device(\"mps\")\n",
    "    print(\"Using MPS device for GPU acceleration.\")\n",
    "else:\n",
    "    device = torch.device(\"cpu\")\n",
    "    print(\"No GPU device found. Using CPU.\")"
   ],
   "id": "85960b23ebd2b893",
   "outputs": [
    {
     "name": "stdout",
     "output_type": "stream",
     "text": [
      "Using CUDA device for GPU acceleration.\n"
     ]
    }
   ],
   "execution_count": 42
  },
  {
   "metadata": {
    "ExecuteTime": {
     "end_time": "2025-04-24T16:12:35.855954Z",
     "start_time": "2025-04-24T16:12:35.801093Z"
    }
   },
   "cell_type": "code",
   "source": "df = pd.read_csv(\"./data/train.csv\")",
   "id": "fe46e953c52a4e4b",
   "outputs": [],
   "execution_count": 43
  },
  {
   "metadata": {
    "ExecuteTime": {
     "end_time": "2025-04-24T16:12:36.697259Z",
     "start_time": "2025-04-24T16:12:36.680306Z"
    }
   },
   "cell_type": "code",
   "source": [
    "class_counts = df['label'].value_counts()\n",
    "print(\"Przed downsamplingiem:\\n\", df['label'].value_counts(normalize=True) * 100)"
   ],
   "id": "28518588f39fd57e",
   "outputs": [
    {
     "name": "stdout",
     "output_type": "stream",
     "text": [
      "Przed downsamplingiem:\n",
      " label\n",
      "unknown    63.603722\n",
      "stop        3.638856\n",
      "on          3.598317\n",
      "go          3.592525\n",
      "yes         3.590595\n",
      "no          3.577082\n",
      "right       3.575152\n",
      "up          3.557778\n",
      "down        3.555847\n",
      "left        3.550056\n",
      "off         3.550056\n",
      "silence     0.610015\n",
      "Name: proportion, dtype: float64\n"
     ]
    }
   ],
   "execution_count": 44
  },
  {
   "metadata": {
    "ExecuteTime": {
     "end_time": "2025-04-24T16:12:39.675939Z",
     "start_time": "2025-04-24T16:12:39.661974Z"
    }
   },
   "cell_type": "code",
   "source": "target_count = class_counts[class_counts.index != 'unknown'].max()",
   "id": "819222ca13f164dd",
   "outputs": [],
   "execution_count": 45
  },
  {
   "metadata": {
    "ExecuteTime": {
     "end_time": "2025-04-24T16:12:40.434581Z",
     "start_time": "2025-04-24T16:12:40.387705Z"
    }
   },
   "cell_type": "code",
   "source": [
    "unknown_df = df[df['label'] == 'unknown']\n",
    "other_df = df[df['label'] != 'unknown']\n",
    "\n",
    "unknown_df['sub_label'] = unknown_df['audio_path'].apply(lambda x: x.split('/')[0])\n",
    "unique_groups = unknown_df['sub_label'].unique()\n",
    "n_groups = len(unique_groups)\n",
    "samples_per_group = target_count // n_groups\n",
    "\n",
    "unknown_df_balanced_samples = (\n",
    "    unknown_df\n",
    "    .groupby('sub_label')\n",
    "    .apply(lambda x: x.sample(n=min(samples_per_group, len(x)), random_state=42))\n",
    "    .reset_index(drop=True)\n",
    ")\n",
    "\n",
    "unknown_df_balanced_samples.drop(columns=['sub_label'], inplace=True)"
   ],
   "id": "b87d62fce2bf008c",
   "outputs": [
    {
     "name": "stderr",
     "output_type": "stream",
     "text": [
      "C:\\Users\\krzys\\AppData\\Local\\Temp\\ipykernel_5568\\1975160494.py:4: SettingWithCopyWarning: \n",
      "A value is trying to be set on a copy of a slice from a DataFrame.\n",
      "Try using .loc[row_indexer,col_indexer] = value instead\n",
      "\n",
      "See the caveats in the documentation: https://pandas.pydata.org/pandas-docs/stable/user_guide/indexing.html#returning-a-view-versus-a-copy\n",
      "  unknown_df['sub_label'] = unknown_df['audio_path'].apply(lambda x: x.split('/')[0])\n",
      "C:\\Users\\krzys\\AppData\\Local\\Temp\\ipykernel_5568\\1975160494.py:12: DeprecationWarning: DataFrameGroupBy.apply operated on the grouping columns. This behavior is deprecated, and in a future version of pandas the grouping columns will be excluded from the operation. Either pass `include_groups=False` to exclude the groupings or explicitly select the grouping columns after groupby to silence this warning.\n",
      "  .apply(lambda x: x.sample(n=min(samples_per_group, len(x)), random_state=42))\n"
     ]
    }
   ],
   "execution_count": 46
  },
  {
   "metadata": {
    "ExecuteTime": {
     "end_time": "2025-04-24T16:12:42.901973Z",
     "start_time": "2025-04-24T16:12:42.883992Z"
    }
   },
   "cell_type": "code",
   "source": [
    "balanced_df = pd.concat([unknown_df_balanced_samples, other_df])\n",
    "\n",
    "print(\"\\nPo downsamplingu:\\n\", balanced_df['label'].value_counts(normalize=True) * 100)"
   ],
   "id": "7a9139734d2272f1",
   "outputs": [
    {
     "name": "stdout",
     "output_type": "stream",
     "text": [
      "\n",
      "Po downsamplingu:\n",
      " label\n",
      "stop       9.096173\n",
      "unknown    9.018964\n",
      "on         8.994837\n",
      "go         8.980360\n",
      "yes        8.975534\n",
      "no         8.941756\n",
      "right      8.936930\n",
      "up         8.893500\n",
      "down       8.888674\n",
      "left       8.874198\n",
      "off        8.874198\n",
      "silence    1.524876\n",
      "Name: proportion, dtype: float64\n"
     ]
    }
   ],
   "execution_count": 47
  },
  {
   "metadata": {
    "ExecuteTime": {
     "end_time": "2025-04-24T16:12:45.487101Z",
     "start_time": "2025-04-24T16:12:45.431703Z"
    }
   },
   "cell_type": "code",
   "source": "balanced_df.to_csv(\"./data/train_balanced.csv\", index=False)",
   "id": "860a4e4fb49d1d7e",
   "outputs": [],
   "execution_count": 48
  }
 ],
 "metadata": {
  "kernelspec": {
   "display_name": "Python 3",
   "language": "python",
   "name": "python3"
  },
  "language_info": {
   "codemirror_mode": {
    "name": "ipython",
    "version": 2
   },
   "file_extension": ".py",
   "mimetype": "text/x-python",
   "name": "python",
   "nbconvert_exporter": "python",
   "pygments_lexer": "ipython2",
   "version": "2.7.6"
  }
 },
 "nbformat": 4,
 "nbformat_minor": 5
}
