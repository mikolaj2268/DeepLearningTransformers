{
 "cells": [
  {
   "cell_type": "code",
   "id": "initial_id",
   "metadata": {
    "collapsed": true,
    "ExecuteTime": {
     "end_time": "2025-04-24T14:29:06.046102Z",
     "start_time": "2025-04-24T14:28:59.994335Z"
    }
   },
   "source": [
    "import torch\n",
    "import pandas as pd"
   ],
   "outputs": [],
   "execution_count": 1
  },
  {
   "metadata": {
    "ExecuteTime": {
     "end_time": "2025-04-24T14:29:06.125944Z",
     "start_time": "2025-04-24T14:29:06.049097Z"
    }
   },
   "cell_type": "code",
   "source": [
    "if torch.cuda.is_available():\n",
    "    device = torch.device(\"cuda\")\n",
    "    print(\"Using CUDA device for GPU acceleration.\")\n",
    "elif torch.backends.mps.is_available():\n",
    "    device = torch.device(\"mps\")\n",
    "    print(\"Using MPS device for GPU acceleration.\")\n",
    "else:\n",
    "    device = torch.device(\"cpu\")\n",
    "    print(\"No GPU device found. Using CPU.\")"
   ],
   "id": "85960b23ebd2b893",
   "outputs": [
    {
     "name": "stdout",
     "output_type": "stream",
     "text": [
      "Using CUDA device for GPU acceleration.\n"
     ]
    }
   ],
   "execution_count": 2
  },
  {
   "metadata": {
    "ExecuteTime": {
     "end_time": "2025-04-24T14:30:01.093901Z",
     "start_time": "2025-04-24T14:30:01.046994Z"
    }
   },
   "cell_type": "code",
   "source": "df = pd.read_csv(\"./data/train.csv\")",
   "id": "fe46e953c52a4e4b",
   "outputs": [],
   "execution_count": 9
  },
  {
   "metadata": {
    "ExecuteTime": {
     "end_time": "2025-04-24T14:30:01.921088Z",
     "start_time": "2025-04-24T14:30:01.910117Z"
    }
   },
   "cell_type": "code",
   "source": [
    "class_counts = df['label'].value_counts()\n",
    "print(\"Przed downsamplingiem:\\n\", class_counts)"
   ],
   "id": "28518588f39fd57e",
   "outputs": [
    {
     "name": "stdout",
     "output_type": "stream",
     "text": [
      "Przed downsamplingiem:\n",
      " label\n",
      "unknown    32948\n",
      "stop        1885\n",
      "on          1864\n",
      "go          1861\n",
      "yes         1860\n",
      "no          1853\n",
      "right       1852\n",
      "up          1843\n",
      "down        1842\n",
      "left        1839\n",
      "off         1839\n",
      "silence      316\n",
      "Name: count, dtype: int64\n"
     ]
    }
   ],
   "execution_count": 10
  },
  {
   "metadata": {
    "ExecuteTime": {
     "end_time": "2025-04-24T14:30:18.078384Z",
     "start_time": "2025-04-24T14:30:18.067413Z"
    }
   },
   "cell_type": "code",
   "source": "print(\"\\nPo downsamplingu:\\n\", df['label'].value_counts(normalize=True) * 100)",
   "id": "36eb7cbd8e491356",
   "outputs": [
    {
     "name": "stdout",
     "output_type": "stream",
     "text": [
      "\n",
      "Po downsamplingu:\n",
      " label\n",
      "unknown    63.603722\n",
      "stop        3.638856\n",
      "on          3.598317\n",
      "go          3.592525\n",
      "yes         3.590595\n",
      "no          3.577082\n",
      "right       3.575152\n",
      "up          3.557778\n",
      "down        3.555847\n",
      "left        3.550056\n",
      "off         3.550056\n",
      "silence     0.610015\n",
      "Name: proportion, dtype: float64\n"
     ]
    }
   ],
   "execution_count": 11
  },
  {
   "metadata": {
    "ExecuteTime": {
     "end_time": "2025-04-24T14:30:37.989842Z",
     "start_time": "2025-04-24T14:30:37.973370Z"
    }
   },
   "cell_type": "code",
   "source": "target_count = class_counts[class_counts.index != 'unknown'].max()",
   "id": "819222ca13f164dd",
   "outputs": [],
   "execution_count": 12
  },
  {
   "metadata": {
    "ExecuteTime": {
     "end_time": "2025-04-24T14:30:41.506499Z",
     "start_time": "2025-04-24T14:30:41.489545Z"
    }
   },
   "cell_type": "code",
   "source": [
    "unknown_df = df[df['label'] == 'unknown']\n",
    "other_df = df[df['label'] != 'unknown']\n",
    "\n",
    "unknown_downsampled = unknown_df.sample(n=target_count, random_state=42)"
   ],
   "id": "b87d62fce2bf008c",
   "outputs": [],
   "execution_count": 13
  },
  {
   "metadata": {
    "ExecuteTime": {
     "end_time": "2025-04-24T14:30:46.008099Z",
     "start_time": "2025-04-24T14:30:45.984131Z"
    }
   },
   "cell_type": "code",
   "source": [
    "balanced_df = pd.concat([unknown_downsampled, other_df])\n",
    "\n",
    "print(\"\\nPo downsamplingu:\\n\", balanced_df['label'].value_counts(normalize=True) * 100)"
   ],
   "id": "7a9139734d2272f1",
   "outputs": [
    {
     "name": "stdout",
     "output_type": "stream",
     "text": [
      "\n",
      "Po downsamplingu:\n",
      " label\n",
      "unknown    9.089156\n",
      "stop       9.089156\n",
      "on         8.987897\n",
      "go         8.973432\n",
      "yes        8.968610\n",
      "no         8.934857\n",
      "right      8.930035\n",
      "up         8.886639\n",
      "down       8.881817\n",
      "left       8.867351\n",
      "off        8.867351\n",
      "silence    1.523699\n",
      "Name: proportion, dtype: float64\n"
     ]
    }
   ],
   "execution_count": 14
  },
  {
   "metadata": {
    "ExecuteTime": {
     "end_time": "2025-04-24T14:30:54.821257Z",
     "start_time": "2025-04-24T14:30:54.759631Z"
    }
   },
   "cell_type": "code",
   "source": "balanced_df.to_csv(\"./data/train_balanced.csv\", index=False)",
   "id": "860a4e4fb49d1d7e",
   "outputs": [],
   "execution_count": 15
  }
 ],
 "metadata": {
  "kernelspec": {
   "display_name": "Python 3",
   "language": "python",
   "name": "python3"
  },
  "language_info": {
   "codemirror_mode": {
    "name": "ipython",
    "version": 2
   },
   "file_extension": ".py",
   "mimetype": "text/x-python",
   "name": "python",
   "nbconvert_exporter": "python",
   "pygments_lexer": "ipython2",
   "version": "2.7.6"
  }
 },
 "nbformat": 4,
 "nbformat_minor": 5
}
