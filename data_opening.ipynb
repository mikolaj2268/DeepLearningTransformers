{
 "cells": [
  {
   "cell_type": "code",
   "execution_count": 3,
   "id": "3eca7389",
   "metadata": {},
   "outputs": [],
   "source": [
    "import os\n",
    "import py7zr\n",
    "import librosa\n",
    "import IPython.display as ipd"
   ]
  },
  {
   "cell_type": "code",
   "execution_count": 4,
   "id": "f24e7808",
   "metadata": {},
   "outputs": [],
   "source": [
    "with py7zr.SevenZipFile('data/train.7z', 'r') as archive:\n",
    "    archive.extractall(path='.')\n",
    "\n",
    "with py7zr.SevenZipFile('data/test.7z', 'r') as archive:\n",
    "    archive.extractall(path='.')"
   ]
  },
  {
   "cell_type": "code",
   "execution_count": null,
   "id": "a8e86c20",
   "metadata": {},
   "outputs": [],
   "source": [
    "example_label_folder = os.path.join('.', 'train', 'audio', 'bird')\n",
    "example_filename     = '0a7c2a8d_nohash_0.wav'\n",
    "example_file_path    = os.path.join(example_label_folder, example_filename)"
   ]
  },
  {
   "cell_type": "code",
   "execution_count": 5,
   "id": "7ace254a",
   "metadata": {},
   "outputs": [
    {
     "name": "stdout",
     "output_type": "stream",
     "text": [
      "Successfully loaded 00f0204f_nohash_0.wav\n",
      "Sample rate: 16000\n",
      "Audio data shape: (16000,)\n"
     ]
    }
   ],
   "source": [
    "try:\n",
    "    audio_data, sample_rate = librosa.load(example_file_path, sr=None)  # sr=None preserves the native sampling rate\n",
    "    print(f\"Successfully loaded {example_filename}\")\n",
    "    print(f\"Sample rate: {sample_rate}\")\n",
    "    print(f\"Audio data shape: {audio_data.shape}\")\n",
    "    \n",
    "except FileNotFoundError as e:\n",
    "    print(f\"File not found: {e}\")\n",
    "    print(\"Double-check that the extracted folder and file paths are correct.\")\n",
    "except Exception as e:\n",
    "    print(f\"An error occurred while reading the file: {e}\")"
   ]
  },
  {
   "cell_type": "code",
   "execution_count": null,
   "id": "c494ccb6",
   "metadata": {},
   "outputs": [],
   "source": []
  }
 ],
 "metadata": {
  "kernelspec": {
   "display_name": "venv",
   "language": "python",
   "name": "python3"
  },
  "language_info": {
   "codemirror_mode": {
    "name": "ipython",
    "version": 3
   },
   "file_extension": ".py",
   "mimetype": "text/x-python",
   "name": "python",
   "nbconvert_exporter": "python",
   "pygments_lexer": "ipython3",
   "version": "3.10.9"
  }
 },
 "nbformat": 4,
 "nbformat_minor": 5
}
