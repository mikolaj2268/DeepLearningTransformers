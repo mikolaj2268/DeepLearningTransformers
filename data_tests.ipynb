{
 "cells": [
  {
   "cell_type": "code",
   "execution_count": 3,
   "id": "14ef0ba8",
   "metadata": {},
   "outputs": [],
   "source": [
    "import torch, torch.nn as nn, torch.nn.functional as F\n",
    "from torch.utils.data import DataLoader, WeightedRandomSampler\n",
    "from AudioDataset import AudioDataset\n",
    "import torch.optim as optim\n",
    "from sklearn.metrics import confusion_matrix, ConfusionMatrixDisplay\n",
    "import matplotlib.pyplot as plt\n",
    "import random"
   ]
  },
  {
   "cell_type": "code",
   "execution_count": 4,
   "id": "de637114",
   "metadata": {},
   "outputs": [
    {
     "name": "stdout",
     "output_type": "stream",
     "text": [
      "train.csv  – class % share\n",
      "label\n",
      "unknown    63.32\n",
      "stop        3.67\n",
      "on          3.63\n",
      "go          3.62\n",
      "yes         3.62\n",
      "no          3.60\n",
      "right       3.60\n",
      "up          3.59\n",
      "down        3.58\n",
      "left        3.58\n",
      "off         3.58\n",
      "silence     0.61\n",
      "Name: proportion, dtype: float64\n",
      "test.csv  – class % share\n",
      "label\n",
      "unknown    63.321920\n",
      "stop        3.667030\n",
      "on          3.626177\n",
      "go          3.620341\n",
      "yes         3.618395\n",
      "no          3.604778\n",
      "right       3.602832\n",
      "up          3.585324\n",
      "down        3.583379\n",
      "left        3.577543\n",
      "off         3.577543\n",
      "silence     0.614738\n",
      "Name: proportion, dtype: float64\n"
     ]
    }
   ],
   "source": [
    "# ── % share of every class in the CSV ────────────────────────────────\n",
    "import pandas as pd\n",
    "\n",
    "df = pd.read_csv(\"./data/train.csv\")      # adjust path if needed\n",
    "pct = df[\"label\"].value_counts(normalize=True)*100\n",
    "print(\"train.csv  – class % share\"); print(pct.round(2))\n",
    "print(\"test.csv  – class % share\"); print(df[\"label\"].value_counts(normalize=True)*100)"
   ]
  },
  {
   "cell_type": "code",
   "execution_count": 5,
   "id": "80953d45",
   "metadata": {},
   "outputs": [],
   "source": [
    "# ─── prepare dataset ──────────────────────────────────────────────────────\n",
    "train_set = AudioDataset(\"./data/train.csv\", \"./data_raw/train/audio\")\n",
    "\n",
    "# ─── compute sample weights for balanced sampling ────────────────────────\n",
    "labels = [lbl for _, lbl in train_set]             # list of ints\n",
    "class_counts = torch.bincount(torch.tensor(labels))\n",
    "class_weights = 1.0 / class_counts.float()          # weight per class\n",
    "sample_weights = [class_weights[lbl] for lbl in labels]\n",
    "\n",
    "# ─── sampler & loader ─────────────────────────────────────────────────────\n",
    "sampler = WeightedRandomSampler(\n",
    "    sample_weights,\n",
    "    num_samples=len(sample_weights),\n",
    "    replacement=True\n",
    ")\n",
    "train_loader = DataLoader(\n",
    "    train_set,\n",
    "    batch_size=256,\n",
    "    sampler=sampler,     # use sampler instead of shuffle\n",
    "    drop_last=True\n",
    ")\n",
    "\n",
    "# ─── test loader unchanged ────────────────────────────────────────────────\n",
    "test_set = AudioDataset(\"./data/test.csv\", \"./data_raw/train/audio\")\n",
    "test_loader = DataLoader(\n",
    "    test_set,\n",
    "    batch_size=256,\n",
    "    shuffle=False,\n",
    "    drop_last=False\n",
    ")"
   ]
  },
  {
   "cell_type": "code",
   "execution_count": 6,
   "id": "f36837a5",
   "metadata": {},
   "outputs": [
    {
     "name": "stdout",
     "output_type": "stream",
     "text": [
      "class  0:  8.37% (4284/51200)\n",
      "class  1:  8.31% (4257/51200)\n",
      "class  2:  8.17% (4181/51200)\n",
      "class  3:  8.28% (4239/51200)\n",
      "class  4:  8.39% (4296/51200)\n",
      "class  5:  8.26% (4230/51200)\n",
      "class  6:  8.30% (4248/51200)\n",
      "class  7:  8.29% (4247/51200)\n",
      "class  8:  8.25% (4223/51200)\n",
      "class  9:  8.34% (4270/51200)\n",
      "class 10:  8.68% (4445/51200)\n",
      "class 11:  8.36% (4280/51200)\n"
     ]
    }
   ],
   "source": [
    "from collections import Counter\n",
    "import torch\n",
    "\n",
    "# assume train_loader defined as in your last snippet\n",
    "\n",
    "# ─── count labels in one epoch ─────────────────────────────────────────\n",
    "label_counts = Counter()\n",
    "total_samples = 0\n",
    "\n",
    "for specs, labels in train_loader:\n",
    "    labels = labels.cpu().tolist()\n",
    "    label_counts.update(labels)\n",
    "    total_samples += len(labels)\n",
    "\n",
    "# ─── print percentage per class ─────────────────────────────────────────\n",
    "for cls_idx, count in sorted(label_counts.items()):\n",
    "    pct = count / total_samples * 100\n",
    "    print(f\"class {cls_idx:2d}: {pct:5.2f}% ({count}/{total_samples})\")"
   ]
  },
  {
   "cell_type": "code",
   "execution_count": null,
   "id": "5bde0e2a",
   "metadata": {},
   "outputs": [],
   "source": []
  }
 ],
 "metadata": {
  "kernelspec": {
   "display_name": "venv",
   "language": "python",
   "name": "python3"
  },
  "language_info": {
   "codemirror_mode": {
    "name": "ipython",
    "version": 3
   },
   "file_extension": ".py",
   "mimetype": "text/x-python",
   "name": "python",
   "nbconvert_exporter": "python",
   "pygments_lexer": "ipython3",
   "version": "3.10.9"
  }
 },
 "nbformat": 4,
 "nbformat_minor": 5
}
