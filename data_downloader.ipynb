{
 "cells": [
  {
   "cell_type": "code",
   "id": "initial_id",
   "metadata": {
    "collapsed": true,
    "ExecuteTime": {
     "end_time": "2025-04-15T09:30:50.064428Z",
     "start_time": "2025-04-15T09:30:45.047336Z"
    }
   },
   "source": [
    "from kaggle.api.kaggle_api_extended import KaggleApi\n",
    "import os\n",
    "from py7zr import unpack_7zarchive\n",
    "import shutil\n",
    "from datasets import Dataset"
   ],
   "outputs": [],
   "execution_count": 1
  },
  {
   "metadata": {
    "ExecuteTime": {
     "end_time": "2025-04-15T08:50:26.412701Z",
     "start_time": "2025-04-15T08:50:26.392732Z"
    }
   },
   "cell_type": "code",
   "source": [
    "api = KaggleApi()\n",
    "api.authenticate()"
   ],
   "id": "eebb5762209aa9ba",
   "outputs": [],
   "execution_count": 24
  },
  {
   "metadata": {
    "ExecuteTime": {
     "end_time": "2025-04-15T08:50:27.714394Z",
     "start_time": "2025-04-15T08:50:27.709408Z"
    }
   },
   "cell_type": "code",
   "source": [
    "download_path = \"./data_raw\"\n",
    "os.makedirs(download_path, exist_ok=True)"
   ],
   "id": "91a3f015e67c693b",
   "outputs": [],
   "execution_count": 25
  },
  {
   "metadata": {
    "ExecuteTime": {
     "end_time": "2025-04-15T08:51:21.224970Z",
     "start_time": "2025-04-15T08:50:33.375257Z"
    }
   },
   "cell_type": "code",
   "source": "api.competition_download_file('tensorflow-speech-recognition-challenge', path=download_path, file_name = 'train.7z')",
   "id": "109985e984d48227",
   "outputs": [
    {
     "name": "stdout",
     "output_type": "stream",
     "text": [
      "Downloading train.7z to ./data_raw\n"
     ]
    },
    {
     "name": "stderr",
     "output_type": "stream",
     "text": [
      "100%|██████████| 1.04G/1.04G [00:03<00:00, 365MB/s]"
     ]
    },
    {
     "name": "stdout",
     "output_type": "stream",
     "text": [
      "\n"
     ]
    },
    {
     "name": "stderr",
     "output_type": "stream",
     "text": [
      "\n"
     ]
    }
   ],
   "execution_count": 26
  },
  {
   "metadata": {
    "ExecuteTime": {
     "end_time": "2025-04-15T08:58:23.990850Z",
     "start_time": "2025-04-15T08:53:54.736716Z"
    }
   },
   "cell_type": "code",
   "source": [
    "shutil.register_unpack_format('7zip', ['.7z'], unpack_7zarchive)\n",
    "shutil.unpack_archive('./data_raw/train.7z', './data_raw/')"
   ],
   "id": "ce7ca1cc459141ea",
   "outputs": [],
   "execution_count": 3
  },
  {
   "metadata": {
    "ExecuteTime": {
     "end_time": "2025-04-15T08:59:59.152276Z",
     "start_time": "2025-04-15T08:59:59.143275Z"
    }
   },
   "cell_type": "code",
   "source": [
    "final_labels = ['yes', 'no', 'up', 'down', 'left', 'right', 'on', 'off', 'stop', 'go', 'silence', 'unknown']\n",
    "idname = {i: name for i, name in enumerate(final_labels)}\n",
    "nameid = {name: i for i, name in idname.items()}"
   ],
   "id": "9d19132cd5ba59f",
   "outputs": [],
   "execution_count": 4
  },
  {
   "metadata": {
    "ExecuteTime": {
     "end_time": "2025-04-15T09:00:00.370385Z",
     "start_time": "2025-04-15T09:00:00.088176Z"
    }
   },
   "cell_type": "code",
   "source": [
    "data_dir = './data_raw/train/audio'\n",
    "data = []\n",
    "for folder in os.listdir(data_dir):\n",
    "    folder_path = os.path.join(data_dir, folder)\n",
    "    if os.path.isdir(folder_path):\n",
    "        label = folder\n",
    "        label_name = label\n",
    "        if label == '_background_noise_':\n",
    "            label_name = 'silence'\n",
    "        elif label not in final_labels:\n",
    "            label_name = 'unknown'\n",
    "        label_id = nameid[label_name]\n",
    "\n",
    "        for file_name in os.listdir(folder_path):\n",
    "            if file_name.endswith(\".wav\"):\n",
    "                relative_path = os.path.join(label, file_name).replace(\"\\\\\", \"/\")\n",
    "                data.append({\n",
    "                    \"audio_path\": relative_path,\n",
    "                    \"label\": label_name,\n",
    "                    \"label_id\": label_id\n",
    "                })"
   ],
   "id": "4386b362912ee14d",
   "outputs": [],
   "execution_count": 5
  },
  {
   "metadata": {
    "ExecuteTime": {
     "end_time": "2025-04-15T09:00:10.578942Z",
     "start_time": "2025-04-15T09:00:10.273818Z"
    }
   },
   "cell_type": "code",
   "source": [
    "def read_list(filepath):\n",
    "    with open(filepath, \"r\") as f:\n",
    "        return set(line.strip().replace(\"\\\\\", \"/\") for line in f if line.strip())\n",
    "\n",
    "val_list = read_list(\"./data_raw/train/validation_list.txt\")\n",
    "test_list = read_list(\"./data_raw/train/testing_list.txt\")\n",
    "\n",
    "train_data, val_data, test_data = [], [], []\n",
    "\n",
    "for example in data:\n",
    "    path = example[\"audio_path\"]\n",
    "    if path in val_list:\n",
    "        val_data.append(example)\n",
    "    elif path in test_list:\n",
    "        test_data.append(example)\n",
    "    else:\n",
    "        train_data.append(example)\n",
    "\n",
    "\n",
    "train_dataset = Dataset.from_list(train_data)\n",
    "val_dataset = Dataset.from_list(val_data)\n",
    "test_dataset = Dataset.from_list(test_data)\n",
    "\n",
    "print(f\"Train: {len(train_dataset)}, Validation: {len(val_dataset)}, Test: {len(test_dataset)}\")"
   ],
   "id": "48bea3f59b66ea96",
   "outputs": [
    {
     "name": "stdout",
     "output_type": "stream",
     "text": [
      "Train: 51094, Validation: 6798, Test: 6835\n"
     ]
    }
   ],
   "execution_count": 7
  },
  {
   "metadata": {
    "ExecuteTime": {
     "end_time": "2025-04-15T09:00:45.670128Z",
     "start_time": "2025-04-15T09:00:45.490643Z"
    }
   },
   "cell_type": "code",
   "source": [
    "output_dir  = \"./data\"\n",
    "os.makedirs(output_dir, exist_ok=True)\n",
    "\n",
    "def save_dataset(dataset, name, output_dir):\n",
    "    df = dataset.to_pandas()\n",
    "    output_path = os.path.join(output_dir, f\"{name}.csv\")\n",
    "    df.to_csv(output_path, index=False)\n",
    "\n",
    "save_dataset(train_dataset, \"train\", output_dir)\n",
    "save_dataset(val_dataset, \"validation\", output_dir)\n",
    "save_dataset(test_dataset, \"test\", output_dir)"
   ],
   "id": "81d7f4e51a3e0732",
   "outputs": [],
   "execution_count": 10
  },
  {
   "metadata": {},
   "cell_type": "markdown",
   "source": "### Wczytywanie danych ",
   "id": "ca325558eeb39812"
  },
  {
   "metadata": {
    "ExecuteTime": {
     "end_time": "2025-04-15T09:31:29.119183Z",
     "start_time": "2025-04-15T09:31:29.044390Z"
    }
   },
   "cell_type": "code",
   "source": [
    "from AudioDataset import AudioDataset\n",
    "import torch\n",
    "\n",
    "dataset = AudioDataset(\n",
    "    csv_path=\"./data/train.csv\",\n",
    "    audio_dir=\"./data_raw/train/audio\"\n",
    ")"
   ],
   "id": "6db04ed79736fe25",
   "outputs": [],
   "execution_count": 6
  },
  {
   "metadata": {
    "ExecuteTime": {
     "end_time": "2025-04-15T09:31:43.209129Z",
     "start_time": "2025-04-15T09:31:42.951843Z"
    }
   },
   "cell_type": "code",
   "source": [
    "dataloader = torch.utils.data.DataLoader(dataset, batch_size=16, shuffle=True)\n",
    "\n",
    "for features, labels in dataloader:\n",
    "    print(features.shape)\n",
    "    print(labels.shape)\n",
    "    break"
   ],
   "id": "17bc7140ba1199e4",
   "outputs": [
    {
     "name": "stdout",
     "output_type": "stream",
     "text": [
      "torch.Size([16, 32, 80])\n",
      "torch.Size([16])\n"
     ]
    }
   ],
   "execution_count": 8
  }
 ],
 "metadata": {
  "kernelspec": {
   "display_name": "Python 3",
   "language": "python",
   "name": "python3"
  },
  "language_info": {
   "codemirror_mode": {
    "name": "ipython",
    "version": 2
   },
   "file_extension": ".py",
   "mimetype": "text/x-python",
   "name": "python",
   "nbconvert_exporter": "python",
   "pygments_lexer": "ipython2",
   "version": "2.7.6"
  }
 },
 "nbformat": 4,
 "nbformat_minor": 5
}
